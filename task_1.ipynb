{
  "nbformat": 4,
  "nbformat_minor": 0,
  "metadata": {
    "colab": {
      "provenance": []
    },
    "kernelspec": {
      "name": "python3",
      "display_name": "Python 3"
    },
    "language_info": {
      "name": "python"
    }
  },
  "cells": [
    {
      "cell_type": "code",
      "execution_count": null,
      "metadata": {
        "id": "rcmP9YbNiRlp"
      },
      "outputs": [],
      "source": [
        "print (\"Enter M:\")\n",
        "M = float(input())\n",
        "\n",
        "print (\"Enter m:\")\n",
        "m =  float(input())\n",
        "\n",
        "print (\"Enter G:\")\n",
        "G = float(input())\n",
        "\n",
        "print (\"Enter r:\")\n",
        "r = float(input())\n",
        "\n",
        "PG = (G*M*m)/pow(r,2)\n",
        "print (\"PG =\")\n",
        "print (PG)\n"
      ]
    }
  ]
}